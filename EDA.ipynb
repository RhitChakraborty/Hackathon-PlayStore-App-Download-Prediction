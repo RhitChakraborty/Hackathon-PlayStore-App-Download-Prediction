{
 "cells": [
  {
   "cell_type": "code",
   "execution_count": 21,
   "metadata": {},
   "outputs": [],
   "source": [
    "import pandas as pd\n",
    "import numpy as np\n",
    "import matplotlib.pyplot as plt\n",
    "import seaborn as sns\n",
    "import matplotlib.pyplot as plt\n",
    "import seaborn as sns\n",
    "%matplotlib inline"
   ]
  },
  {
   "cell_type": "code",
   "execution_count": 2,
   "metadata": {},
   "outputs": [],
   "source": [
    "df_test=pd.read_csv('../inputs/Test.csv')\n",
    "df_train=pd.read_csv('../inputs/Train.csv')"
   ]
  },
  {
   "cell_type": "code",
   "execution_count": 3,
   "metadata": {},
   "outputs": [
    {
     "data": {
      "text/html": [
       "<div>\n",
       "<style scoped>\n",
       "    .dataframe tbody tr th:only-of-type {\n",
       "        vertical-align: middle;\n",
       "    }\n",
       "\n",
       "    .dataframe tbody tr th {\n",
       "        vertical-align: top;\n",
       "    }\n",
       "\n",
       "    .dataframe thead th {\n",
       "        text-align: right;\n",
       "    }\n",
       "</style>\n",
       "<table border=\"1\" class=\"dataframe\">\n",
       "  <thead>\n",
       "    <tr style=\"text-align: right;\">\n",
       "      <th></th>\n",
       "      <th>Offered_By</th>\n",
       "      <th>Category</th>\n",
       "      <th>Rating</th>\n",
       "      <th>Reviews</th>\n",
       "      <th>Size</th>\n",
       "      <th>Price</th>\n",
       "      <th>Content_Rating</th>\n",
       "      <th>Last_Updated_On</th>\n",
       "      <th>Release_Version</th>\n",
       "      <th>OS_Version_Required</th>\n",
       "      <th>Downloads</th>\n",
       "    </tr>\n",
       "  </thead>\n",
       "  <tbody>\n",
       "    <tr>\n",
       "      <th>0</th>\n",
       "      <td>ps_id-24654</td>\n",
       "      <td>Finance</td>\n",
       "      <td>4.18</td>\n",
       "      <td>1481</td>\n",
       "      <td>Varies with device</td>\n",
       "      <td>Free</td>\n",
       "      <td>Everyone</td>\n",
       "      <td>May 05 2020</td>\n",
       "      <td>Varies with device</td>\n",
       "      <td>Varies with device</td>\n",
       "      <td>100,000+</td>\n",
       "    </tr>\n",
       "    <tr>\n",
       "      <th>1</th>\n",
       "      <td>ps_id-35329</td>\n",
       "      <td>Music And Audio</td>\n",
       "      <td>4.81</td>\n",
       "      <td>302</td>\n",
       "      <td>10M</td>\n",
       "      <td>Free</td>\n",
       "      <td>Everyone</td>\n",
       "      <td>Mar 26 2020</td>\n",
       "      <td>3.9.18</td>\n",
       "      <td>4.1 and up</td>\n",
       "      <td>5,000+</td>\n",
       "    </tr>\n",
       "    <tr>\n",
       "      <th>2</th>\n",
       "      <td>ps_id-11044</td>\n",
       "      <td>Game Casual</td>\n",
       "      <td>4.27</td>\n",
       "      <td>374</td>\n",
       "      <td>27M</td>\n",
       "      <td>Free</td>\n",
       "      <td>Everyone</td>\n",
       "      <td>May 01 2020</td>\n",
       "      <td>1.10.1</td>\n",
       "      <td>4.1 and up</td>\n",
       "      <td>10,000+</td>\n",
       "    </tr>\n",
       "    <tr>\n",
       "      <th>3</th>\n",
       "      <td>ps_id-36068</td>\n",
       "      <td>Business</td>\n",
       "      <td>4.03</td>\n",
       "      <td>122058</td>\n",
       "      <td>Varies with device</td>\n",
       "      <td>Free</td>\n",
       "      <td>Teen</td>\n",
       "      <td>May 02 2020</td>\n",
       "      <td>Varies with device</td>\n",
       "      <td>Varies with device</td>\n",
       "      <td>10,000,000+</td>\n",
       "    </tr>\n",
       "    <tr>\n",
       "      <th>4</th>\n",
       "      <td>ps_id-35831</td>\n",
       "      <td>Medical</td>\n",
       "      <td>4.60</td>\n",
       "      <td>358</td>\n",
       "      <td>Varies with device</td>\n",
       "      <td>297.5742</td>\n",
       "      <td>Everyone</td>\n",
       "      <td>Nov 29 2018</td>\n",
       "      <td>Varies with device</td>\n",
       "      <td>Varies with device</td>\n",
       "      <td>5,000+</td>\n",
       "    </tr>\n",
       "  </tbody>\n",
       "</table>\n",
       "</div>"
      ],
      "text/plain": [
       "    Offered_By         Category  Rating  Reviews                Size  \\\n",
       "0  ps_id-24654          Finance    4.18     1481  Varies with device   \n",
       "1  ps_id-35329  Music And Audio    4.81      302                 10M   \n",
       "2  ps_id-11044      Game Casual    4.27      374                 27M   \n",
       "3  ps_id-36068         Business    4.03   122058  Varies with device   \n",
       "4  ps_id-35831          Medical    4.60      358  Varies with device   \n",
       "\n",
       "      Price Content_Rating Last_Updated_On     Release_Version  \\\n",
       "0      Free       Everyone     May 05 2020  Varies with device   \n",
       "1      Free       Everyone     Mar 26 2020              3.9.18   \n",
       "2      Free       Everyone     May 01 2020              1.10.1   \n",
       "3      Free           Teen     May 02 2020  Varies with device   \n",
       "4  297.5742       Everyone     Nov 29 2018  Varies with device   \n",
       "\n",
       "  OS_Version_Required    Downloads  \n",
       "0  Varies with device     100,000+  \n",
       "1          4.1 and up       5,000+  \n",
       "2          4.1 and up      10,000+  \n",
       "3  Varies with device  10,000,000+  \n",
       "4  Varies with device       5,000+  "
      ]
     },
     "execution_count": 3,
     "metadata": {},
     "output_type": "execute_result"
    }
   ],
   "source": [
    "df_train.head()"
   ]
  },
  {
   "cell_type": "code",
   "execution_count": 14,
   "metadata": {},
   "outputs": [
    {
     "data": {
      "text/plain": [
       "((16516, 11), (24776, 10))"
      ]
     },
     "execution_count": 14,
     "metadata": {},
     "output_type": "execute_result"
    }
   ],
   "source": [
    "df_train.shape,df_test.shape"
   ]
  },
  {
   "cell_type": "code",
   "execution_count": 9,
   "metadata": {},
   "outputs": [
    {
     "name": "stdout",
     "output_type": "stream",
     "text": [
      "Offered_By             0\n",
      "Category               0\n",
      "Rating                 0\n",
      "Reviews                0\n",
      "Size                   0\n",
      "Price                  0\n",
      "Content_Rating         0\n",
      "Last_Updated_On        0\n",
      "Release_Version        0\n",
      "OS_Version_Required    0\n",
      "Downloads              0\n",
      "dtype: int64\n"
     ]
    },
    {
     "data": {
      "text/plain": [
       "Offered_By             0\n",
       "Category               0\n",
       "Rating                 0\n",
       "Reviews                0\n",
       "Size                   0\n",
       "Price                  0\n",
       "Content_Rating         0\n",
       "Last_Updated_On        0\n",
       "Release_Version        0\n",
       "OS_Version_Required    0\n",
       "dtype: int64"
      ]
     },
     "execution_count": 9,
     "metadata": {},
     "output_type": "execute_result"
    }
   ],
   "source": [
    "print(df_train.isnull().sum())\n",
    "df_test.isnull().sum()"
   ]
  },
  {
   "cell_type": "code",
   "execution_count": 13,
   "metadata": {},
   "outputs": [
    {
     "name": "stdout",
     "output_type": "stream",
     "text": [
      "Offered_By\n",
      "['ps_id-24654' 'ps_id-35329' 'ps_id-11044' ... 'ps_id-5583' 'ps_id-15485'\n",
      " 'ps_id-4549']\n",
      "15520\n",
      "Category\n",
      "['Finance' 'Music And Audio' 'Game Casual' 'Business' 'Medical'\n",
      " 'Books And Reference' 'Tools' 'Game' 'Travel And Local' 'Family'\n",
      " 'Game Simulation' 'Lifestyle' 'Comics' 'Education' 'Entertainment'\n",
      " 'Game Action' 'Social' 'Sports' 'Photography' 'Game Word' 'Game Trivia'\n",
      " 'Communication' 'News And Magazines' 'Game Board' 'House And Home'\n",
      " 'Personalization' 'Game Puzzle' 'Productivity' 'Health And Fitness'\n",
      " 'Shopping' 'Art And Design' 'Weather' 'Maps And Navigation' 'Dating'\n",
      " 'Game Arcade' 'Game Role Playing' 'Game Educational' 'Video Players'\n",
      " 'Game Strategy' 'Food And Drink' 'Game Sports' 'Auto And Vehicles'\n",
      " 'Events' 'Game Adventure' 'Parenting' 'Libraries And Demo' 'Game Racing'\n",
      " 'Game Card' 'Game Music' 'Game Casino' 'Beauty']\n",
      "51\n",
      "Rating\n",
      "[4.18 4.81 4.27 4.03 4.6  4.8  4.62 3.2  4.1  3.8  4.3  3.25 4.48 4.57\n",
      " 4.2  4.56 4.39 3.17 4.08 4.32 3.5  4.44 4.53 4.83 4.51 4.14 4.   3.91\n",
      " 4.5  4.86 4.4  4.61 4.9  4.76 4.65 4.33 4.71 3.4  4.42 3.9  4.37 2.98\n",
      " 2.8  3.24 3.65 4.63 4.59 4.38 3.55 4.72 4.67 3.7  4.45 4.36 4.23 4.7\n",
      " 4.68 4.89 4.28 3.14 4.04 4.19 3.6  4.75 4.12 4.41 3.06 4.16 3.51 1.33\n",
      " 4.34 4.47 4.24 4.87 3.89 4.13 3.94 4.21 3.71 4.35 3.54 2.19 3.53 4.54\n",
      " 4.31 3.52 1.78 4.26 4.74 4.58 5.   3.18 4.15 3.74 3.12 3.16 3.96 3.83\n",
      " 3.95 4.17 3.85 4.88 3.84 4.49 4.77 4.93 4.55 4.29 3.47 2.45 2.99 4.22\n",
      " 3.33 4.46 3.67 1.92 3.77 3.3  3.31 3.97 1.   4.25 4.52 3.73 4.07 3.81\n",
      " 4.85 3.41 4.82 3.88 3.78 3.69 4.95 3.75 3.66 4.92 4.02 3.72 4.66 4.73\n",
      " 3.   3.62 4.64 4.01 4.09 4.79 3.82 3.98 2.9  3.99 4.11 2.01 3.23 2.95\n",
      " 3.38 3.92 3.43 3.42 4.43 3.48 3.86 4.05 3.22 3.19 3.58 2.7  3.64 2.87\n",
      " 3.57 2.61 2.85 3.21 4.78 3.46 3.07 3.79 4.84 3.15 2.33 3.45 4.94 4.06\n",
      " 4.69 3.59 2.57 2.5  2.49 3.93 1.83 3.76 3.61 1.9  3.34 3.39 3.1  3.87\n",
      " 2.67 3.29 2.46 2.09 2.2  4.91 3.49 2.91 3.28 3.04 1.81 3.27 1.42 3.05\n",
      " 3.56 3.36 2.3  3.68 2.84 4.97 2.88 2.28 2.   3.08 2.79 3.63 2.27 3.32\n",
      " 4.96 3.44 2.58 2.69 1.7  2.1  2.53 2.68 3.03 4.98 2.62 3.02 3.09 3.35\n",
      " 3.01 2.92 2.6  3.13 2.35 2.78 1.86 1.5  3.37 2.66 2.41 2.16 2.86 2.38\n",
      " 3.26 2.73 2.96 2.94 1.4  2.4  2.77 2.89 2.55 1.94 1.41 2.75 1.52 1.79\n",
      " 4.99 2.05 2.26 2.65 2.63 2.48 2.83 2.47 2.08 2.54 2.25 1.96 1.67 1.8\n",
      " 2.39 2.13 2.37 2.51 2.97 1.6  2.31 2.93 1.62 2.59 1.98 1.59 1.39 2.42\n",
      " 2.81 1.58 1.57 2.15 2.56 2.29 2.32 2.24 2.14 1.07 2.18 1.89 2.36 1.49\n",
      " 2.03 2.71 3.11 2.82 1.55 2.34 1.56 2.72 2.17 1.63 2.44]\n",
      "319\n",
      "Reviews\n",
      "[   1481     302     374 ...    5420 1488289   21201]\n",
      "9124\n",
      "Size\n",
      "['Varies with device' '10M' '27M' '2.3M' '24M' '20M' '19M' '8.7M' '30M'\n",
      " '11M' '3.7M' '79M' '3.0M' '15M' '14M' '49M' '1.5M' '44M' '8.2M' '6.7M'\n",
      " '55M' '23M' '42M' '3.6M' '2.0M' '556k' '41M' '2.9M' '38M' '73M' '16M'\n",
      " '13M' '8.3M' '45M' '7.0M' '70M' '2.6M' '7.9M' '5.9M' '94M' '32M' '6.1M'\n",
      " '9.0M' '29M' '7.3M' '69M' '35M' '2.1M' '3.9M' '5.5M' '9.9M' '40M' '5.6M'\n",
      " '100M' '21M' '17M' '1.8M' '6.6M' '56M' '58M' '18M' '5.7M' '5.4M' '8.5M'\n",
      " '4.8M' '2.2M' '6.8M' '77M' '36M' '25M' '89M' '3.8M' '2.7M' '5.2M' '3.1M'\n",
      " '31M' '68M' '87M' '4.6M' '186k' '33M' '48M' '12M' '64M' '1.2M' '82M'\n",
      " '34M' '8.1M' '88M' '140k' '3.4M' '8.4M' '50M' '47M' '3.3M' '75M' '53M'\n",
      " '6.3M' '8.9M' '5.1M' '7.1M' '9.3M' '8.6M' '26M' '2.5M' '6.5M' '63M'\n",
      " '7.2M' '86M' '2.4M' '22M' '9.6M' '4.0M' '4.2M' '46M' '61M' '8.8M' '96M'\n",
      " '51M' '85M' '4.9M' '9.2M' '28M' '80M' '4.1M' '84M' '91M' '2.8M' '99M'\n",
      " '54M' '37M' '4.4M' '8.0M' '39M' '67M' '71M' '9.7M' '66M' '6.2M' '551k'\n",
      " '9.1M' '60M' '3.5M' '3.2M' '1.7M' '594k' '7.7M' '1.9M' '52M' '7.6M'\n",
      " '1.0M' '5.0M' '6.0M' '4.5M' '98M' '6.9M' '9.4M' '62M' '5.3M' '7.5M' '59M'\n",
      " '81M' '7.8M' '20k' '317k' '7.4M' '1.1M' '92M' '43M' '78M' '5.8M' '975k'\n",
      " '10.0M' '4.3M' '7.5k' '97M' '794k' '417k' '1.4M' '65M' '68k' '9.5M'\n",
      " '362k' '72M' '508k' '95M' '76M' '57M' '4.7M' '861k' '1.3M' '109k' '83M'\n",
      " '383k' '351k' '954k' '6.4M' '9.8M' '1.6M' '78k' '352k' '74M' '543k'\n",
      " '808k' '54k' '400k' '847k' '465k' '631k' '778k' '318k' '325k' '436k'\n",
      " '848k' '552k' '65k' '202k' '93M' '629k' '914k' '101M' '21k' '205k' '872k'\n",
      " '793k' '83k' '104M' '93k' '102M' '608k' '578k' '915k' '238k' '951k' '64k'\n",
      " '809k' '1,014k' '81k' '516k' '210k' '111M' '59k' '49k' '90M' '976k'\n",
      " '116M' '87k' '585k' '79k' '10k' '772k' '55k' '720k' '57k' '853k' '182k'\n",
      " '207k' '169k' '662k' '597k' '611k' '103M' '139k' '710k' '849k' '592k'\n",
      " '288k' '924k' '950k' '860k' '581k' '818k' '53k' '173k' '181k' '651k'\n",
      " '29k' '466k' '364k' '74k' '903k' '200k' '17k' '736k' '420k' '708k' '378k'\n",
      " '39k' '386k' '34k' '105M' '563k' '106M' '762k' '77k' '499k' '411k' '756k'\n",
      " '587k' '206k' '877k' '953k' '544k' '834k' '624k' '165k' '413k' '1,015k'\n",
      " '27k' '279k' '963k' '600k' '99k' '194k' '72k' '430k' '598k' '879k' '48k'\n",
      " '50k' '334k' '309k' '44k' '704k' '308k' '722k' '1,005k' '811k' '760k'\n",
      " '467k' '930k' '18k' '251k' '107k' '844k' '634k' '373k' '201k' '470k'\n",
      " '545k' '105k' '28k' '395k' '643k' '733k' '237k' '24k' '92k' '4.7k' '865k'\n",
      " '228k' '478k' '193k' '785k' '839k' '586k' '71k' '925k' '180k' '153k'\n",
      " '737k' '862k' '460k' '627k' '58k' '226k' '640k' '935k' '302k' '454k'\n",
      " '146k' '683k' '458k' '911k' '73k' '713k' '234k' '261k' '66k' '813k'\n",
      " '397k' '529k' '990k' '522k' '498k' '246k' '827k' '160k' '270k' '842k'\n",
      " '30k' '619k' '221k' '15k' '322k' '636k' '45k' '42k' '718k' '451k' '122k'\n",
      " '757k' '219k' '51k' '14k' '175k' '900k' '528k' '603k' '523k' '442k' '60k'\n",
      " '350k' '920k' '402k' '387k' '602k' '314k' '828k' '41k' '812k' '63k'\n",
      " '143k' '232k' '1,022k' '216k' '874k' '480k' '375k' '289k' '198k' '566k'\n",
      " '239k' '642k' '70k' '107M' '192k' '166k' '23k']\n",
      "439\n",
      "Price\n",
      "['Free' '297.5742' '222.9942' '111.1242' '372.1542' '148.4142' '73.8342'\n",
      " '894.2142' '446.7342' '670.4742' '745.0542' '2833.2942000000003'\n",
      " '409.4442' '190.9248' '260.2842' '1863.7541999999999'\n",
      " '185.70420000000001' '334.8642' '595.8942' '1341.6942'\n",
      " '126.78599999999999' '131.2608' '319.9482' '2236.6542' '29831.2542'\n",
      " '521.3142' '28339.6542' '968.7942' '335.61' '1192.5342' '298.32'\n",
      " '1117.9542' '186.45' '164.07600000000002' '342.3222' '88.75019999999999'\n",
      " '264.75899999999996' '577.2492' '742.0709999999999' '2087.4941999999996'\n",
      " '1490.8541999999998' '78.309' '447.48' '29085.4542' '428.0892' '707.7642'\n",
      " '558.6042' '178.992' '369.171' '240.1476' '355.74659999999994' '633.1842'\n",
      " '360.9672' '96.2082' '149.16' '429.58079999999995' '484.0242' '1043.3742'\n",
      " '118.5822' '287.133' '656.3040000000001' '93.9708' '74.58' '111.87'\n",
      " '730.1381999999999' '229.7064' '284.14979999999997' '1789.1742'\n",
      " '289.37039999999996' '279.675' '469.1082' '223.74' '2385.8142'\n",
      " '1416.2741999999998' '225.2316' '216.28199999999998' '120.0738'\n",
      " '5592.754199999999' '208.0782' '1098.5634' '2534.9742' '801.735'\n",
      " '1267.1141999999998']\n",
      "83\n",
      "Content_Rating\n",
      "['Everyone' 'Teen' 'Everyone 10+' 'Mature 17+' 'Adults only 18+' 'Unrated']\n",
      "6\n",
      "Last_Updated_On\n",
      "['May 05 2020' 'Mar 26 2020' 'May 01 2020' ... 'Dec 25 2014' 'Jun 14 2016'\n",
      " 'Mar 05 2014']\n",
      "1583\n",
      "Release_Version\n",
      "['Varies with device' '3.9.18' '1.10.1' ... '3.0.1.11 (build 311)'\n",
      " '2.48.3' '2.5.17.0']\n",
      "4190\n",
      "OS_Version_Required\n",
      "['Varies with device' '4.1 and up' '5.0 and up' '4.4 and up' '4.0 and up'\n",
      " '2.3.3 and up' '4.0.3 and up' '4.2 and up' '2.3 and up' '4.3 and up'\n",
      " '3.0 and up' '2.2 and up' '6.0 and up' '3.1 and up' '4.4w and up'\n",
      " '5.1 and up' '2.1 and up' '1.5 and up' '1.6 and up' '8.0 and up'\n",
      " '7.0 and up' '3.2 and up' '7.1 and up' '1.1 and up' '2.0 and up'\n",
      " '2.0.1 and up' '1.0 and up']\n",
      "27\n",
      "Downloads\n",
      "['100,000+' '5,000+' '10,000+' '10,000,000+' '50,000+' '1,000,000+'\n",
      " '5,000,000+' '500,000+' '1,000+' '1,000,000,000+' '50,000,000+' '100+'\n",
      " '100,000,000+' '500+' '10+' '50+' '500,000,000+' '5,000,000,000+']\n",
      "18\n"
     ]
    }
   ],
   "source": [
    "for f in df_train.columns:\n",
    "    print(f)\n",
    "    print(df_train[f].unique()),\n",
    "    print(df_train[f].nunique())"
   ]
  },
  {
   "cell_type": "code",
   "execution_count": 40,
   "metadata": {},
   "outputs": [
    {
     "data": {
      "text/plain": [
       "OS_Version_Required\n",
       "1.0 and up               1\n",
       "1.1 and up               1\n",
       "1.5 and up              36\n",
       "1.6 and up              62\n",
       "2.0 and up              29\n",
       "2.0.1 and up             9\n",
       "2.1 and up             116\n",
       "2.2 and up             252\n",
       "2.3 and up             753\n",
       "2.3.3 and up           288\n",
       "3.0 and up             235\n",
       "3.1 and up              12\n",
       "3.2 and up              29\n",
       "4.0 and up            1894\n",
       "4.0.3 and up          2549\n",
       "4.1 and up            4363\n",
       "4.2 and up             689\n",
       "4.3 and up             348\n",
       "4.4 and up            1831\n",
       "4.4w and up             15\n",
       "5.0 and up            1283\n",
       "5.1 and up              65\n",
       "6.0 and up             140\n",
       "7.0 and up              48\n",
       "7.1 and up               5\n",
       "8.0 and up              12\n",
       "Varies with device    1451\n",
       "Name: Downloads, dtype: int64"
      ]
     },
     "execution_count": 40,
     "metadata": {},
     "output_type": "execute_result"
    }
   ],
   "source": [
    "df_train.groupby(['OS_Version_Required'])['Downloads'].count()"
   ]
  },
  {
   "cell_type": "code",
   "execution_count": 4,
   "metadata": {},
   "outputs": [],
   "source": [
    "df_train_dup=df_train.drop_duplicates()\n",
    "df_test_dup=df_test.drop_duplicates()\n",
    "full_df=pd.concat([df_train_dup,df_test_dup],axis=0).reset_index(drop=True)"
   ]
  },
  {
   "cell_type": "code",
   "execution_count": 5,
   "metadata": {},
   "outputs": [],
   "source": [
    "dup_df=full_df.loc[full_df.drop('Downloads',axis=1).duplicated(keep=False),:]"
   ]
  },
  {
   "cell_type": "code",
   "execution_count": 6,
   "metadata": {},
   "outputs": [
    {
     "data": {
      "text/plain": [
       "(386, 11)"
      ]
     },
     "execution_count": 6,
     "metadata": {},
     "output_type": "execute_result"
    }
   ],
   "source": [
    "dup_df.shape"
   ]
  },
  {
   "cell_type": "code",
   "execution_count": 7,
   "metadata": {},
   "outputs": [
    {
     "name": "stderr",
     "output_type": "stream",
     "text": [
      "c:\\users\\rhitc\\appdata\\local\\programs\\python\\python37\\lib\\site-packages\\ipykernel_launcher.py:1: SettingWithCopyWarning: \n",
      "A value is trying to be set on a copy of a slice from a DataFrame.\n",
      "Try using .loc[row_indexer,col_indexer] = value instead\n",
      "\n",
      "See the caveats in the documentation: https://pandas.pydata.org/pandas-docs/stable/user_guide/indexing.html#returning-a-view-versus-a-copy\n",
      "  \"\"\"Entry point for launching an IPython kernel.\n"
     ]
    }
   ],
   "source": [
    "dup_df['t/f']=dup_df.drop('Downloads',axis=1).duplicated(keep='first')"
   ]
  },
  {
   "cell_type": "code",
   "execution_count": 8,
   "metadata": {},
   "outputs": [
    {
     "data": {
      "text/plain": [
       "193"
      ]
     },
     "execution_count": 8,
     "metadata": {},
     "output_type": "execute_result"
    }
   ],
   "source": [
    "(dup_df['t/f']==False).sum()"
   ]
  },
  {
   "cell_type": "markdown",
   "metadata": {},
   "source": [
    "# Visualizations"
   ]
  },
  {
   "cell_type": "code",
   "execution_count": 9,
   "metadata": {},
   "outputs": [],
   "source": [
    "df=df_train.copy()"
   ]
  },
  {
   "cell_type": "code",
   "execution_count": 11,
   "metadata": {},
   "outputs": [
    {
     "data": {
      "text/html": [
       "<div>\n",
       "<style scoped>\n",
       "    .dataframe tbody tr th:only-of-type {\n",
       "        vertical-align: middle;\n",
       "    }\n",
       "\n",
       "    .dataframe tbody tr th {\n",
       "        vertical-align: top;\n",
       "    }\n",
       "\n",
       "    .dataframe thead th {\n",
       "        text-align: right;\n",
       "    }\n",
       "</style>\n",
       "<table border=\"1\" class=\"dataframe\">\n",
       "  <thead>\n",
       "    <tr style=\"text-align: right;\">\n",
       "      <th></th>\n",
       "      <th>Offered_By</th>\n",
       "      <th>Category</th>\n",
       "      <th>Rating</th>\n",
       "      <th>Reviews</th>\n",
       "      <th>Size</th>\n",
       "      <th>Price</th>\n",
       "      <th>Content_Rating</th>\n",
       "      <th>Last_Updated_On</th>\n",
       "      <th>Release_Version</th>\n",
       "      <th>OS_Version_Required</th>\n",
       "      <th>Downloads</th>\n",
       "    </tr>\n",
       "  </thead>\n",
       "  <tbody>\n",
       "    <tr>\n",
       "      <th>0</th>\n",
       "      <td>ps_id-24654</td>\n",
       "      <td>Finance</td>\n",
       "      <td>4.18</td>\n",
       "      <td>1481</td>\n",
       "      <td>Varies with device</td>\n",
       "      <td>Free</td>\n",
       "      <td>Everyone</td>\n",
       "      <td>May 05 2020</td>\n",
       "      <td>Varies with device</td>\n",
       "      <td>Varies with device</td>\n",
       "      <td>100,000+</td>\n",
       "    </tr>\n",
       "    <tr>\n",
       "      <th>1</th>\n",
       "      <td>ps_id-35329</td>\n",
       "      <td>Music And Audio</td>\n",
       "      <td>4.81</td>\n",
       "      <td>302</td>\n",
       "      <td>10M</td>\n",
       "      <td>Free</td>\n",
       "      <td>Everyone</td>\n",
       "      <td>Mar 26 2020</td>\n",
       "      <td>3.9.18</td>\n",
       "      <td>4.1 and up</td>\n",
       "      <td>5,000+</td>\n",
       "    </tr>\n",
       "    <tr>\n",
       "      <th>2</th>\n",
       "      <td>ps_id-11044</td>\n",
       "      <td>Game Casual</td>\n",
       "      <td>4.27</td>\n",
       "      <td>374</td>\n",
       "      <td>27M</td>\n",
       "      <td>Free</td>\n",
       "      <td>Everyone</td>\n",
       "      <td>May 01 2020</td>\n",
       "      <td>1.10.1</td>\n",
       "      <td>4.1 and up</td>\n",
       "      <td>10,000+</td>\n",
       "    </tr>\n",
       "    <tr>\n",
       "      <th>3</th>\n",
       "      <td>ps_id-36068</td>\n",
       "      <td>Business</td>\n",
       "      <td>4.03</td>\n",
       "      <td>122058</td>\n",
       "      <td>Varies with device</td>\n",
       "      <td>Free</td>\n",
       "      <td>Teen</td>\n",
       "      <td>May 02 2020</td>\n",
       "      <td>Varies with device</td>\n",
       "      <td>Varies with device</td>\n",
       "      <td>10,000,000+</td>\n",
       "    </tr>\n",
       "    <tr>\n",
       "      <th>4</th>\n",
       "      <td>ps_id-35831</td>\n",
       "      <td>Medical</td>\n",
       "      <td>4.60</td>\n",
       "      <td>358</td>\n",
       "      <td>Varies with device</td>\n",
       "      <td>297.5742</td>\n",
       "      <td>Everyone</td>\n",
       "      <td>Nov 29 2018</td>\n",
       "      <td>Varies with device</td>\n",
       "      <td>Varies with device</td>\n",
       "      <td>5,000+</td>\n",
       "    </tr>\n",
       "  </tbody>\n",
       "</table>\n",
       "</div>"
      ],
      "text/plain": [
       "    Offered_By         Category  Rating  Reviews                Size  \\\n",
       "0  ps_id-24654          Finance    4.18     1481  Varies with device   \n",
       "1  ps_id-35329  Music And Audio    4.81      302                 10M   \n",
       "2  ps_id-11044      Game Casual    4.27      374                 27M   \n",
       "3  ps_id-36068         Business    4.03   122058  Varies with device   \n",
       "4  ps_id-35831          Medical    4.60      358  Varies with device   \n",
       "\n",
       "      Price Content_Rating Last_Updated_On     Release_Version  \\\n",
       "0      Free       Everyone     May 05 2020  Varies with device   \n",
       "1      Free       Everyone     Mar 26 2020              3.9.18   \n",
       "2      Free       Everyone     May 01 2020              1.10.1   \n",
       "3      Free           Teen     May 02 2020  Varies with device   \n",
       "4  297.5742       Everyone     Nov 29 2018  Varies with device   \n",
       "\n",
       "  OS_Version_Required    Downloads  \n",
       "0  Varies with device     100,000+  \n",
       "1          4.1 and up       5,000+  \n",
       "2          4.1 and up      10,000+  \n",
       "3  Varies with device  10,000,000+  \n",
       "4  Varies with device       5,000+  "
      ]
     },
     "execution_count": 11,
     "metadata": {},
     "output_type": "execute_result"
    }
   ],
   "source": [
    "df.head()"
   ]
  },
  {
   "cell_type": "code",
   "execution_count": 15,
   "metadata": {},
   "outputs": [],
   "source": [
    "cat_col=['Offered_By', 'Category','Size', 'Price','Content_Rating','Release_Version',\n",
    "       'OS_Version_Required', 'Downloads']"
   ]
  },
  {
   "cell_type": "code",
   "execution_count": 38,
   "metadata": {
    "scrolled": true
   },
   "outputs": [
    {
     "data": {
      "image/png": "[encoded data removed]",
      "text/plain": [
       "<Figure size 1080x360 with 1 Axes>"
      ]
     },
     "metadata": {
      "needs_background": "light"
     },
     "output_type": "display_data"
    }
   ],
   "source": [
    "df.plot.scatter('Rating','Reviews',figsize=(15,5));"
   ]
  },
  {
   "cell_type": "code",
   "execution_count": 49,
   "metadata": {},
   "outputs": [
    {
     "data": {
      "image/png": "[encoded data removed]",
      "text/plain": [
       "<Figure size 1800x576 with 1 Axes>"
      ]
     },
     "metadata": {
      "needs_background": "light"
     },
     "output_type": "display_data"
    }
   ],
   "source": [
    "plt.figure(figsize=(25,8))\n",
    "sns.countplot(df.Downloads);"
   ]
  },
  {
   "cell_type": "code",
   "execution_count": 50,
   "metadata": {},
   "outputs": [
    {
     "data": {
      "image/png": "[encoded data removed]",
      "text/plain": [
       "<Figure size 1800x576 with 1 Axes>"
      ]
     },
     "metadata": {
      "needs_background": "light"
     },
     "output_type": "display_data"
    }
   ],
   "source": [
    "plt.figure(figsize=(25,8))\n",
    "sns.countplot(df.Price);"
   ]
  },
  {
   "cell_type": "code",
   "execution_count": 53,
   "metadata": {},
   "outputs": [
    {
     "data": {
      "image/png": "[encoded data removed]",
      "text/plain": [
       "<Figure size 1800x576 with 1 Axes>"
      ]
     },
     "metadata": {
      "needs_background": "light"
     },
     "output_type": "display_data"
    }
   ],
   "source": [
    "plt.figure(figsize=(25,8))\n",
    "sns.countplot(df['OS_Version_Required']);"
   ]
  },
  {
   "cell_type": "code",
   "execution_count": 56,
   "metadata": {},
   "outputs": [
    {
     "data": {
      "image/png": "[encoded data removed]",
      "text/plain": [
       "<Figure size 720x360 with 1 Axes>"
      ]
     },
     "metadata": {
      "needs_background": "light"
     },
     "output_type": "display_data"
    }
   ],
   "source": [
    "plt.figure(figsize=(10,5))\n",
    "sns.countplot(df['Content_Rating']);"
   ]
  },
  {
   "cell_type": "code",
   "execution_count": 61,
   "metadata": {},
   "outputs": [
    {
     "data": {
      "image/png": "[encoded data removed]",
      "text/plain": [
       "<Figure size 720x360 with 1 Axes>"
      ]
     },
     "metadata": {
      "needs_background": "light"
     },
     "output_type": "display_data"
    }
   ],
   "source": [
    "plt.figure(figsize=(10,5))\n",
    "sns.countplot(df['Category']);"
   ]
  },
  {
   "cell_type": "code",
   "execution_count": null,
   "metadata": {},
   "outputs": [],
   "source": []
  }
 ],
 "metadata": {
  "kernelspec": {
   "display_name": "Python 3",
   "language": "python",
   "name": "python3"
  },
  "language_info": {
   "codemirror_mode": {
    "name": "ipython",
    "version": 3
   },
   "file_extension": ".py",
   "mimetype": "text/x-python",
   "name": "python",
   "nbconvert_exporter": "python",
   "pygments_lexer": "ipython3",
   "version": "3.7.7"
  }
 },
 "nbformat": 4,
 "nbformat_minor": 4
}
